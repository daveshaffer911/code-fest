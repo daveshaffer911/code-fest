{
 "cells": [
  {
   "cell_type": "code",
   "execution_count": 1,
   "metadata": {},
   "outputs": [
    {
     "name": "stderr",
     "output_type": "stream",
     "text": [
      "Using TensorFlow backend.\n"
     ]
    }
   ],
   "source": [
    "from keras.models import Sequential\n",
    "from keras.layers import Dense\n",
    "from keras.optimizers import SGD\n",
    "from keras.datasets import mnist\n",
    "from keras.utils import np_utils"
   ]
  },
  {
   "cell_type": "code",
   "execution_count": 2,
   "metadata": {
    "collapsed": true
   },
   "outputs": [],
   "source": [
    "batch_size = 128\n",
    "nb_classes = 10\n",
    "nb_epoch = 10"
   ]
  },
  {
   "cell_type": "code",
   "execution_count": 3,
   "metadata": {},
   "outputs": [],
   "source": [
    "# Load MNIST dataset\n",
    "(X_train, y_train), (X_test, y_test) = mnist.load_data()\n",
    "X_train = X_train.reshape(60000, 784)\n",
    "X_test = X_test.reshape(10000, 784)\n",
    "X_train = X_train.astype('float32')\n",
    "X_test = X_test.astype('float32')\n",
    "X_train /= 255\n",
    "X_test /= 255\n",
    "Y_Train = np_utils.to_categorical(y_train, nb_classes)\n",
    "Y_Test = np_utils.to_categorical(y_test, nb_classes)"
   ]
  },
  {
   "cell_type": "markdown",
   "metadata": {},
   "source": [
    "We have 60,000 28x28 training grayscale images and 10,000 28x28 test grayscale images. Let's visualize some of them."
   ]
  },
  {
   "cell_type": "code",
   "execution_count": 4,
   "metadata": {},
   "outputs": [
    {
     "data": {
      "text/plain": [
       "<matplotlib.image.AxesImage at 0x7f79925c5208>"
      ]
     },
     "execution_count": 4,
     "metadata": {},
     "output_type": "execute_result"
    },
    {
     "data": {
      "image/png": "[encoded data removed]",
      "text/plain": [
       "<matplotlib.figure.Figure at 0x7f79a30d9128>"
      ]
     },
     "metadata": {},
     "output_type": "display_data"
    }
   ],
   "source": [
    "%matplotlib inline\n",
    "import matplotlib.pyplot as plt\n",
    "import numpy as np\n",
    "import random\n",
    "\n",
    "samples = np.concatenate([np.concatenate([X_train[i].reshape(28,28) for i in [int(random.random() * len(X_train)) for i in range(16)]], axis=1) for i in range(2)], axis=0)\n",
    "plt.figure(figsize=(16,2))\n",
    "plt.imshow(samples, cmap='gray')"
   ]
  },
  {
   "cell_type": "code",
   "execution_count": 5,
   "metadata": {},
   "outputs": [
    {
     "name": "stdout",
     "output_type": "stream",
     "text": [
      "_________________________________________________________________\n",
      "Layer (type)                 Output Shape              Param #   \n",
      "=================================================================\n",
      "dense_1 (Dense)              (None, 625)               490625    \n",
      "_________________________________________________________________\n",
      "dense_2 (Dense)              (None, 625)               391250    \n",
      "_________________________________________________________________\n",
      "dense_3 (Dense)              (None, 10)                6260      \n",
      "=================================================================\n",
      "Total params: 888,135\n",
      "Trainable params: 888,135\n",
      "Non-trainable params: 0\n",
      "_________________________________________________________________\n"
     ]
    }
   ],
   "source": [
    "# Multilayer Perceptron model\n",
    "model = Sequential()\n",
    "model.add( Dense(input_dim=784, units=625, kernel_initializer=\"normal\", activation=\"sigmoid\") )\n",
    "model.add( Dense(input_dim=625, units=625, kernel_initializer=\"normal\", activation=\"sigmoid\") )\n",
    "model.add( Dense(input_dim=625, units=10,  kernel_initializer=\"normal\", activation=\"softmax\") )\n",
    "model.compile( optimizer=SGD(lr=0.05), loss='categorical_crossentropy', metrics=['accuracy'] )\n",
    "model.summary()"
   ]
  },
  {
   "cell_type": "code",
   "execution_count": 6,
   "metadata": {},
   "outputs": [
    {
     "name": "stdout",
     "output_type": "stream",
     "text": [
      "Epoch 1/10\n",
      "60000/60000 [==============================] - 8s - loss: 1.9199 - acc: 0.4238     \n",
      "Epoch 2/10\n",
      "60000/60000 [==============================] - 7s - loss: 0.9317 - acc: 0.7792     \n",
      "Epoch 3/10\n",
      "60000/60000 [==============================] - 8s - loss: 0.5859 - acc: 0.8471     \n",
      "Epoch 4/10\n",
      "60000/60000 [==============================] - 8s - loss: 0.4721 - acc: 0.8713     \n",
      "Epoch 5/10\n",
      "60000/60000 [==============================] - 8s - loss: 0.4172 - acc: 0.8832     \n",
      "Epoch 6/10\n",
      "60000/60000 [==============================] - 8s - loss: 0.3853 - acc: 0.8910     \n",
      "Epoch 7/10\n",
      "60000/60000 [==============================] - 8s - loss: 0.3649 - acc: 0.8961     \n",
      "Epoch 8/10\n",
      "60000/60000 [==============================] - 8s - loss: 0.3500 - acc: 0.9000     \n",
      "Epoch 9/10\n",
      "60000/60000 [==============================] - 8s - loss: 0.3390 - acc: 0.9021     \n",
      "Epoch 10/10\n",
      "60000/60000 [==============================] - 8s - loss: 0.3296 - acc: 0.9053     \n"
     ]
    }
   ],
   "source": [
    "# Train\n",
    "history = model.fit( X_train, Y_Train, epochs=nb_epoch, batch_size=batch_size, verbose=1 )"
   ]
  },
  {
   "cell_type": "code",
   "execution_count": 7,
   "metadata": {},
   "outputs": [
    {
     "name": "stdout",
     "output_type": "stream",
     "text": [
      " 9920/10000 [============================>.] - ETA: 0sSummary: Loss over the test dataset: 0.31, Accuracy: 0.91\n"
     ]
    }
   ],
   "source": [
    "# Evaluate\n",
    "evaluation = model.evaluate(X_test, Y_Test, verbose=1)\n",
    "print('Summary: Loss over the test dataset: %.2f, Accuracy: %.2f' % (evaluation[0], evaluation[1]))"
   ]
  },
  {
   "cell_type": "markdown",
   "metadata": {},
   "source": [
    "With 100 epochs (instead of 10), the accuracy reaches 96%"
   ]
  }
 ],
 "metadata": {
  "kernelspec": {
   "display_name": "Python 3",
   "language": "python",
   "name": "python3"
  },
  "language_info": {
   "codemirror_mode": {
    "name": "ipython",
    "version": 3
   },
   "file_extension": ".py",
   "mimetype": "text/x-python",
   "name": "python",
   "nbconvert_exporter": "python",
   "pygments_lexer": "ipython3",
   "version": "3.5.3"
  }
 },
 "nbformat": 4,
 "nbformat_minor": 1
}
